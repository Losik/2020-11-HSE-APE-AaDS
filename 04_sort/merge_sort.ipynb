{
  "nbformat": 4,
  "nbformat_minor": 0,
  "metadata": {
    "colab": {
      "name": "Untitled0.ipynb",
      "provenance": []
    },
    "kernelspec": {
      "name": "python3",
      "display_name": "Python 3"
    }
  },
  "cells": [
    {
      "cell_type": "code",
      "metadata": {
        "id": "wc292R6lJTRt",
        "colab_type": "code",
        "colab": {
          "base_uri": "https://localhost:8080/",
          "height": 161
        },
        "outputId": "0a201197-8f2f-4e8e-8c02-17d93c55a071"
      },
      "source": [
        "print('Syntax sugar')\n",
        "for i in range(3):\n",
        "  print(i)\n",
        "\n",
        "print('What happens underneath')\n",
        "it = iter(range(3))\n",
        "while True:\n",
        "  try:\n",
        "    i = next(it)\n",
        "    # your code block starts here\n",
        "    print(i)\n",
        "    # your code block ends here\n",
        "  except StopIteration:\n",
        "    break\n",
        "\n"
      ],
      "execution_count": 1,
      "outputs": [
        {
          "output_type": "stream",
          "text": [
            "Syntax sugar\n",
            "0\n",
            "1\n",
            "2\n",
            "What happens underneath\n",
            "0\n",
            "1\n",
            "2\n"
          ],
          "name": "stdout"
        }
      ]
    },
    {
      "cell_type": "code",
      "metadata": {
        "id": "KXCXH_miGlps",
        "colab_type": "code",
        "colab": {}
      },
      "source": [
        "def merge(a, b):\n",
        "  # For collections iter(x) returns an iterator over x\n",
        "  # For iterators iter(x) returns x itself\n",
        "  a_it = iter(a)\n",
        "  b_it = iter(b)\n",
        "  \n",
        "  # next(x_it, default) returns next value if present and\n",
        "  # default if sequence has ended.\n",
        "  # \n",
        "  # In Python3 an attempt to use None in comparison (<)\n",
        "  # should result in TypeError. So I assume None is not\n",
        "  # present in either sequence. Note that it's not safe in\n",
        "  # Python2\n",
        "  a_val = next(a_it, None)\n",
        "  b_val = next(b_it, None)\n",
        "    \n",
        "  while a_val is not None and b_val is not None:\n",
        "    if a_val <= b_val:\n",
        "      yield a_val\n",
        "      a_val = next(a_it, None)\n",
        "    else:\n",
        "      yield b_val\n",
        "      b_val = next(b_it, None)\n",
        "\n",
        "  if a_val is not None: yield a_val\n",
        "  if b_val is not None: yield b_val\n",
        "\n",
        "  # yield from x is equivalent to\n",
        "  # for y in x:\n",
        "  #     yield y\n",
        "  yield from a_it\n",
        "  yield from b_it"
      ],
      "execution_count": 0,
      "outputs": []
    },
    {
      "cell_type": "code",
      "metadata": {
        "id": "nP1suzqwREDk",
        "colab_type": "code",
        "colab": {}
      },
      "source": [
        "def merge_sort(arr, begin=0, end=None):\n",
        "    \"\"\"\n",
        "    begin - индекс начала диапазона внутри arr\n",
        "    end - следующий после последднего\n",
        "    arr[begin:end]\n",
        "    \"\"\"\n",
        "    if end is None:\n",
        "      end = len(arr)\n",
        "\n",
        "    if end - begin < 2:\n",
        "      for i in range(begin, end):\n",
        "        yield arr[i] \n",
        "    else:\n",
        "      pivot = (end + begin) // 2\n",
        "      first_half = merge_sort(arr, begin, pivot)\n",
        "      second_half = merge_sort(arr, pivot, end)\n",
        "      yield from merge(first_half, second_half)"
      ],
      "execution_count": 0,
      "outputs": []
    },
    {
      "cell_type": "code",
      "metadata": {
        "id": "q2YXN0tGSstO",
        "colab_type": "code",
        "colab": {
          "base_uri": "https://localhost:8080/",
          "height": 35
        },
        "outputId": "da566ee0-d42d-41bc-879b-0d8e1323c8cb"
      },
      "source": [
        "print(list(merge_sort([4, 1, 5, 3, 2])))"
      ],
      "execution_count": 4,
      "outputs": [
        {
          "output_type": "stream",
          "text": [
            "[1, 2, 3, 4, 5]\n"
          ],
          "name": "stdout"
        }
      ]
    },
    {
      "cell_type": "code",
      "metadata": {
        "id": "TnFuYO5AQl-B",
        "colab_type": "code",
        "colab": {
          "base_uri": "https://localhost:8080/",
          "height": 737
        },
        "outputId": "bdc9024c-7dbd-464b-9c62-99d0fb6e6b43"
      },
      "source": [
        "import random\n",
        "\n",
        "# Makes random generate same random numbers on restart\n",
        "random.seed(42)\n",
        "\n",
        "for i in range(10):\n",
        "  # Creating a randomly shuffled array\n",
        "  arr = list(range(i))\n",
        "  random.shuffle(arr)\n",
        "  \n",
        "  # Backuping shiuffled array \n",
        "  arr_backup = list(arr)\n",
        "  \n",
        "  # Running sort \n",
        "  merge_sorted_arr = list(merge_sort(arr))\n",
        "\n",
        "  # Checking that original array is not modified after sort\n",
        "  assert arr_backup == arr, arr_backup\n",
        "\n",
        "  # Checking that sorting was correct\n",
        "  assert list(range(i)) == merge_sorted_arr, arr_backup\n",
        "\n",
        "  print(f'SIZE\\t{i}\\nIN\\t{arr_backup}\\nOUT\\t{merge_sorted_arr}\\n')"
      ],
      "execution_count": 5,
      "outputs": [
        {
          "output_type": "stream",
          "text": [
            "SIZE\t0\n",
            "IN\t[]\n",
            "OUT\t[]\n",
            "\n",
            "SIZE\t1\n",
            "IN\t[0]\n",
            "OUT\t[0]\n",
            "\n",
            "SIZE\t2\n",
            "IN\t[1, 0]\n",
            "OUT\t[0, 1]\n",
            "\n",
            "SIZE\t3\n",
            "IN\t[2, 1, 0]\n",
            "OUT\t[0, 1, 2]\n",
            "\n",
            "SIZE\t4\n",
            "IN\t[3, 2, 0, 1]\n",
            "OUT\t[0, 1, 2, 3]\n",
            "\n",
            "SIZE\t5\n",
            "IN\t[3, 1, 2, 4, 0]\n",
            "OUT\t[0, 1, 2, 3, 4]\n",
            "\n",
            "SIZE\t6\n",
            "IN\t[1, 2, 3, 4, 5, 0]\n",
            "OUT\t[0, 1, 2, 3, 4, 5]\n",
            "\n",
            "SIZE\t7\n",
            "IN\t[5, 3, 2, 1, 0, 6, 4]\n",
            "OUT\t[0, 1, 2, 3, 4, 5, 6]\n",
            "\n",
            "SIZE\t8\n",
            "IN\t[5, 1, 6, 0, 2, 4, 7, 3]\n",
            "OUT\t[0, 1, 2, 3, 4, 5, 6, 7]\n",
            "\n",
            "SIZE\t9\n",
            "IN\t[7, 8, 3, 0, 2, 6, 1, 4, 5]\n",
            "OUT\t[0, 1, 2, 3, 4, 5, 6, 7, 8]\n",
            "\n"
          ],
          "name": "stdout"
        }
      ]
    }
  ]
}