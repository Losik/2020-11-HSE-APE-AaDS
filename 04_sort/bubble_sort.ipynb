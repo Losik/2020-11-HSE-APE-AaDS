{
  "nbformat": 4,
  "nbformat_minor": 0,
  "metadata": {
    "colab": {
      "name": "bubble_sort.ipynb",
      "provenance": [],
      "collapsed_sections": []
    },
    "kernelspec": {
      "name": "python3",
      "display_name": "Python 3"
    }
  },
  "cells": [
    {
      "cell_type": "code",
      "metadata": {
        "id": "NatUsMdWJwpD"
      },
      "source": [
        "def bubble_sort(arr: list) -> list:\n",
        "    # Просто чтобы упоминать в комментариях эту\n",
        "    # переменную как n, а не как len(arr). Можно\n",
        "    # и без нее, тут дело вкуса\n",
        "    n = len(arr)\n",
        "\n",
        "    # elements_in_place - кол-во элементов, которые\n",
        "    # мы поставили на свои места. В тот момент, когда\n",
        "    # elements_in_place становится равным n - 1, мы\n",
        "    # прекращаем алгоритм (если расставить n - 1 элемент\n",
        "    # по местам, то последний элемент окажется на месте\n",
        "    # автоматически)\n",
        "    for elements_in_place in range(n - 1):\n",
        "        # На начало каждой итерации arr[i - 1] содержит\n",
        "        # максимальный на интервале arr[:i] элемент (в такой\n",
        "        # записи правая граница не включительная).\n",
        "        for i in range(1, n - elements_in_place):\n",
        "            if arr[i - 1] > arr[i]:\n",
        "                arr[i - 1], arr[i] = arr[i], arr[i - 1]\n",
        "\n",
        "    # Алгоритм меняет массив из входного аргумента, поэтому\n",
        "    # return не обязателен, но удобен. Например:\n",
        "    # print(bubble_sort([4, 3, 2, 1]))\n",
        "    return arr"
      ],
      "execution_count": 1,
      "outputs": []
    },
    {
      "cell_type": "code",
      "metadata": {
        "colab": {
          "base_uri": "https://localhost:8080/"
        },
        "id": "X-SBf0z8LAqr",
        "outputId": "c4b28796-7f9d-46b1-bec2-7f8debca4787"
      },
      "source": [
        "print(bubble_sort([]))\n",
        "print(bubble_sort([1]))\n",
        "print(bubble_sort([2, 1]))\n",
        "print(bubble_sort([3, 2, 1]))\n",
        "print(bubble_sort([4, 3, 2, 1]))"
      ],
      "execution_count": 2,
      "outputs": [
        {
          "output_type": "stream",
          "text": [
            "[]\n",
            "[1]\n",
            "[1, 2]\n",
            "[1, 2, 3]\n",
            "[1, 2, 3, 4]\n"
          ],
          "name": "stdout"
        }
      ]
    },
    {
      "cell_type": "code",
      "metadata": {
        "id": "ZrlCvgH6LHkF"
      },
      "source": [
        ""
      ],
      "execution_count": null,
      "outputs": []
    }
  ]
}